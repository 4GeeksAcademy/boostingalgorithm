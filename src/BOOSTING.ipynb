{
    "cells": [
        {
            "cell_type": "markdown",
            "metadata": {},
            "source": [
                "# Explore here"
            ]
        },
        {
            "cell_type": "code",
            "execution_count": 2,
            "metadata": {},
            "outputs": [
                {
                    "data": {
                        "text/html": [
                            "<div>\n",
                            "<style scoped>\n",
                            "    .dataframe tbody tr th:only-of-type {\n",
                            "        vertical-align: middle;\n",
                            "    }\n",
                            "\n",
                            "    .dataframe tbody tr th {\n",
                            "        vertical-align: top;\n",
                            "    }\n",
                            "\n",
                            "    .dataframe thead th {\n",
                            "        text-align: right;\n",
                            "    }\n",
                            "</style>\n",
                            "<table border=\"1\" class=\"dataframe\">\n",
                            "  <thead>\n",
                            "    <tr style=\"text-align: right;\">\n",
                            "      <th></th>\n",
                            "      <th>Pregnancies</th>\n",
                            "      <th>Glucose</th>\n",
                            "      <th>BMI</th>\n",
                            "      <th>Age</th>\n",
                            "      <th>Outcome</th>\n",
                            "    </tr>\n",
                            "  </thead>\n",
                            "  <tbody>\n",
                            "    <tr>\n",
                            "      <th>0</th>\n",
                            "      <td>2.0</td>\n",
                            "      <td>84.0</td>\n",
                            "      <td>0.0</td>\n",
                            "      <td>21.0</td>\n",
                            "      <td>0</td>\n",
                            "    </tr>\n",
                            "    <tr>\n",
                            "      <th>1</th>\n",
                            "      <td>9.0</td>\n",
                            "      <td>112.0</td>\n",
                            "      <td>28.2</td>\n",
                            "      <td>50.0</td>\n",
                            "      <td>1</td>\n",
                            "    </tr>\n",
                            "    <tr>\n",
                            "      <th>2</th>\n",
                            "      <td>1.0</td>\n",
                            "      <td>139.0</td>\n",
                            "      <td>28.7</td>\n",
                            "      <td>22.0</td>\n",
                            "      <td>0</td>\n",
                            "    </tr>\n",
                            "    <tr>\n",
                            "      <th>3</th>\n",
                            "      <td>0.0</td>\n",
                            "      <td>161.0</td>\n",
                            "      <td>21.9</td>\n",
                            "      <td>65.0</td>\n",
                            "      <td>0</td>\n",
                            "    </tr>\n",
                            "    <tr>\n",
                            "      <th>4</th>\n",
                            "      <td>6.0</td>\n",
                            "      <td>134.0</td>\n",
                            "      <td>46.2</td>\n",
                            "      <td>46.0</td>\n",
                            "      <td>1</td>\n",
                            "    </tr>\n",
                            "  </tbody>\n",
                            "</table>\n",
                            "</div>"
                        ],
                        "text/plain": [
                            "   Pregnancies  Glucose   BMI   Age  Outcome\n",
                            "0          2.0     84.0   0.0  21.0        0\n",
                            "1          9.0    112.0  28.2  50.0        1\n",
                            "2          1.0    139.0  28.7  22.0        0\n",
                            "3          0.0    161.0  21.9  65.0        0\n",
                            "4          6.0    134.0  46.2  46.0        1"
                        ]
                    },
                    "execution_count": 2,
                    "metadata": {},
                    "output_type": "execute_result"
                }
            ],
            "source": [
                "import pandas as pd\n",
                "\n",
                "train_data = pd.read_csv(\"../data/processed/clean_train.csv\")\n",
                "test_data = pd.read_csv(\"../data/processed/clean_test.csv\")\n",
                "\n",
                "train_data.head()"
            ]
        },
        {
            "cell_type": "code",
            "execution_count": 3,
            "metadata": {},
            "outputs": [],
            "source": [
                "X_train = train_data.drop([\"Outcome\"], axis = 1)\n",
                "y_train = train_data[\"Outcome\"]\n",
                "X_test = test_data.drop([\"Outcome\"], axis = 1)\n",
                "y_test = test_data[\"Outcome\"]"
            ]
        },
        {
            "cell_type": "markdown",
            "metadata": {},
            "source": [
                "NOS ENCONTRAMOS ANTE UNA BASE DE DATOS DE REGRESSON VAMOS A USAR XGBOOST EN ESTE CASO"
            ]
        },
        {
            "cell_type": "code",
            "execution_count": 4,
            "metadata": {},
            "outputs": [
                {
                    "data": {
                        "text/html": [
                            "<style>#sk-container-id-1 {color: black;}#sk-container-id-1 pre{padding: 0;}#sk-container-id-1 div.sk-toggleable {background-color: white;}#sk-container-id-1 label.sk-toggleable__label {cursor: pointer;display: block;width: 100%;margin-bottom: 0;padding: 0.3em;box-sizing: border-box;text-align: center;}#sk-container-id-1 label.sk-toggleable__label-arrow:before {content: \"▸\";float: left;margin-right: 0.25em;color: #696969;}#sk-container-id-1 label.sk-toggleable__label-arrow:hover:before {color: black;}#sk-container-id-1 div.sk-estimator:hover label.sk-toggleable__label-arrow:before {color: black;}#sk-container-id-1 div.sk-toggleable__content {max-height: 0;max-width: 0;overflow: hidden;text-align: left;background-color: #f0f8ff;}#sk-container-id-1 div.sk-toggleable__content pre {margin: 0.2em;color: black;border-radius: 0.25em;background-color: #f0f8ff;}#sk-container-id-1 input.sk-toggleable__control:checked~div.sk-toggleable__content {max-height: 200px;max-width: 100%;overflow: auto;}#sk-container-id-1 input.sk-toggleable__control:checked~label.sk-toggleable__label-arrow:before {content: \"▾\";}#sk-container-id-1 div.sk-estimator input.sk-toggleable__control:checked~label.sk-toggleable__label {background-color: #d4ebff;}#sk-container-id-1 div.sk-label input.sk-toggleable__control:checked~label.sk-toggleable__label {background-color: #d4ebff;}#sk-container-id-1 input.sk-hidden--visually {border: 0;clip: rect(1px 1px 1px 1px);clip: rect(1px, 1px, 1px, 1px);height: 1px;margin: -1px;overflow: hidden;padding: 0;position: absolute;width: 1px;}#sk-container-id-1 div.sk-estimator {font-family: monospace;background-color: #f0f8ff;border: 1px dotted black;border-radius: 0.25em;box-sizing: border-box;margin-bottom: 0.5em;}#sk-container-id-1 div.sk-estimator:hover {background-color: #d4ebff;}#sk-container-id-1 div.sk-parallel-item::after {content: \"\";width: 100%;border-bottom: 1px solid gray;flex-grow: 1;}#sk-container-id-1 div.sk-label:hover label.sk-toggleable__label {background-color: #d4ebff;}#sk-container-id-1 div.sk-serial::before {content: \"\";position: absolute;border-left: 1px solid gray;box-sizing: border-box;top: 0;bottom: 0;left: 50%;z-index: 0;}#sk-container-id-1 div.sk-serial {display: flex;flex-direction: column;align-items: center;background-color: white;padding-right: 0.2em;padding-left: 0.2em;position: relative;}#sk-container-id-1 div.sk-item {position: relative;z-index: 1;}#sk-container-id-1 div.sk-parallel {display: flex;align-items: stretch;justify-content: center;background-color: white;position: relative;}#sk-container-id-1 div.sk-item::before, #sk-container-id-1 div.sk-parallel-item::before {content: \"\";position: absolute;border-left: 1px solid gray;box-sizing: border-box;top: 0;bottom: 0;left: 50%;z-index: -1;}#sk-container-id-1 div.sk-parallel-item {display: flex;flex-direction: column;z-index: 1;position: relative;background-color: white;}#sk-container-id-1 div.sk-parallel-item:first-child::after {align-self: flex-end;width: 50%;}#sk-container-id-1 div.sk-parallel-item:last-child::after {align-self: flex-start;width: 50%;}#sk-container-id-1 div.sk-parallel-item:only-child::after {width: 0;}#sk-container-id-1 div.sk-dashed-wrapped {border: 1px dashed gray;margin: 0 0.4em 0.5em 0.4em;box-sizing: border-box;padding-bottom: 0.4em;background-color: white;}#sk-container-id-1 div.sk-label label {font-family: monospace;font-weight: bold;display: inline-block;line-height: 1.2em;}#sk-container-id-1 div.sk-label-container {text-align: center;}#sk-container-id-1 div.sk-container {/* jupyter's `normalize.less` sets `[hidden] { display: none; }` but bootstrap.min.css set `[hidden] { display: none !important; }` so we also need the `!important` here to be able to override the default hidden behavior on the sphinx rendered scikit-learn.org. See: https://github.com/scikit-learn/scikit-learn/issues/21755 */display: inline-block !important;position: relative;}#sk-container-id-1 div.sk-text-repr-fallback {display: none;}</style><div id=\"sk-container-id-1\" class=\"sk-top-container\"><div class=\"sk-text-repr-fallback\"><pre>XGBClassifier(base_score=None, booster=None, callbacks=None,\n",
                            "              colsample_bylevel=None, colsample_bynode=None,\n",
                            "              colsample_bytree=None, device=None, early_stopping_rounds=None,\n",
                            "              enable_categorical=False, eval_metric=None, feature_types=None,\n",
                            "              gamma=None, grow_policy=None, importance_type=None,\n",
                            "              interaction_constraints=None, learning_rate=None, max_bin=None,\n",
                            "              max_cat_threshold=None, max_cat_to_onehot=None,\n",
                            "              max_delta_step=None, max_depth=None, max_leaves=None,\n",
                            "              min_child_weight=None, missing=nan, monotone_constraints=None,\n",
                            "              multi_strategy=None, n_estimators=None, n_jobs=None,\n",
                            "              num_parallel_tree=None, random_state=12, ...)</pre><b>In a Jupyter environment, please rerun this cell to show the HTML representation or trust the notebook. <br />On GitHub, the HTML representation is unable to render, please try loading this page with nbviewer.org.</b></div><div class=\"sk-container\" hidden><div class=\"sk-item\"><div class=\"sk-estimator sk-toggleable\"><input class=\"sk-toggleable__control sk-hidden--visually\" id=\"sk-estimator-id-1\" type=\"checkbox\" checked><label for=\"sk-estimator-id-1\" class=\"sk-toggleable__label sk-toggleable__label-arrow\">XGBClassifier</label><div class=\"sk-toggleable__content\"><pre>XGBClassifier(base_score=None, booster=None, callbacks=None,\n",
                            "              colsample_bylevel=None, colsample_bynode=None,\n",
                            "              colsample_bytree=None, device=None, early_stopping_rounds=None,\n",
                            "              enable_categorical=False, eval_metric=None, feature_types=None,\n",
                            "              gamma=None, grow_policy=None, importance_type=None,\n",
                            "              interaction_constraints=None, learning_rate=None, max_bin=None,\n",
                            "              max_cat_threshold=None, max_cat_to_onehot=None,\n",
                            "              max_delta_step=None, max_depth=None, max_leaves=None,\n",
                            "              min_child_weight=None, missing=nan, monotone_constraints=None,\n",
                            "              multi_strategy=None, n_estimators=None, n_jobs=None,\n",
                            "              num_parallel_tree=None, random_state=12, ...)</pre></div></div></div></div></div>"
                        ],
                        "text/plain": [
                            "XGBClassifier(base_score=None, booster=None, callbacks=None,\n",
                            "              colsample_bylevel=None, colsample_bynode=None,\n",
                            "              colsample_bytree=None, device=None, early_stopping_rounds=None,\n",
                            "              enable_categorical=False, eval_metric=None, feature_types=None,\n",
                            "              gamma=None, grow_policy=None, importance_type=None,\n",
                            "              interaction_constraints=None, learning_rate=None, max_bin=None,\n",
                            "              max_cat_threshold=None, max_cat_to_onehot=None,\n",
                            "              max_delta_step=None, max_depth=None, max_leaves=None,\n",
                            "              min_child_weight=None, missing=nan, monotone_constraints=None,\n",
                            "              multi_strategy=None, n_estimators=None, n_jobs=None,\n",
                            "              num_parallel_tree=None, random_state=12, ...)"
                        ]
                    },
                    "execution_count": 4,
                    "metadata": {},
                    "output_type": "execute_result"
                }
            ],
            "source": [
                "from xgboost import XGBClassifier\n",
                "\n",
                "model = XGBClassifier(random_state = 12)\n",
                "model.fit(X_train, y_train)"
            ]
        },
        {
            "cell_type": "code",
            "execution_count": 5,
            "metadata": {},
            "outputs": [
                {
                    "data": {
                        "text/plain": [
                            "array([0, 0, 0, 0, 0, 1, 0, 1, 0, 1, 0, 1, 0, 0, 0, 0, 0, 0, 1, 1, 1, 0,\n",
                            "       1, 0, 0, 1, 0, 0, 0, 0, 1, 1, 0, 1, 1, 1, 1, 0, 0, 1, 0, 0, 1, 0,\n",
                            "       0, 1, 1, 0, 0, 1, 0, 1, 1, 0, 0, 0, 1, 0, 0, 1, 1, 0, 0, 0, 0, 1,\n",
                            "       0, 1, 0, 1, 1, 0, 0, 0, 0, 1, 0, 0, 0, 0, 1, 0, 0, 0, 0, 1, 1, 0,\n",
                            "       0, 0, 0, 0, 0, 0, 0, 1, 0, 0, 1, 0, 1, 0, 1, 1, 1, 0, 0, 1, 0, 1,\n",
                            "       0, 1, 0, 1, 0, 0, 0, 0, 0, 1, 0, 0, 1, 0, 0, 1, 0, 1, 1, 1, 1, 1,\n",
                            "       0, 0, 1, 0, 0, 1, 1, 0, 0, 0, 0, 0, 0, 0, 0, 0, 1, 1, 0, 0, 0, 0])"
                        ]
                    },
                    "execution_count": 5,
                    "metadata": {},
                    "output_type": "execute_result"
                }
            ],
            "source": [
                "y_pred = model.predict(X_test)\n",
                "y_pred"
            ]
        },
        {
            "cell_type": "code",
            "execution_count": 6,
            "metadata": {},
            "outputs": [
                {
                    "data": {
                        "text/plain": [
                            "0.7337662337662337"
                        ]
                    },
                    "execution_count": 6,
                    "metadata": {},
                    "output_type": "execute_result"
                }
            ],
            "source": [
                "from sklearn.metrics import accuracy_score\n",
                "\n",
                "accuracy_score(y_test, y_pred)"
            ]
        },
        {
            "cell_type": "markdown",
            "metadata": {},
            "source": [
                "OBTENEMOS UN ACCURACY DE 0.73 VAMOS A INTENTAR MEJORARLO CON LA OPTIMIZACION\n"
            ]
        },
        {
            "cell_type": "code",
            "execution_count": 9,
            "metadata": {},
            "outputs": [
                {
                    "data": {
                        "text/html": [
                            "<style>#sk-container-id-3 {color: black;}#sk-container-id-3 pre{padding: 0;}#sk-container-id-3 div.sk-toggleable {background-color: white;}#sk-container-id-3 label.sk-toggleable__label {cursor: pointer;display: block;width: 100%;margin-bottom: 0;padding: 0.3em;box-sizing: border-box;text-align: center;}#sk-container-id-3 label.sk-toggleable__label-arrow:before {content: \"▸\";float: left;margin-right: 0.25em;color: #696969;}#sk-container-id-3 label.sk-toggleable__label-arrow:hover:before {color: black;}#sk-container-id-3 div.sk-estimator:hover label.sk-toggleable__label-arrow:before {color: black;}#sk-container-id-3 div.sk-toggleable__content {max-height: 0;max-width: 0;overflow: hidden;text-align: left;background-color: #f0f8ff;}#sk-container-id-3 div.sk-toggleable__content pre {margin: 0.2em;color: black;border-radius: 0.25em;background-color: #f0f8ff;}#sk-container-id-3 input.sk-toggleable__control:checked~div.sk-toggleable__content {max-height: 200px;max-width: 100%;overflow: auto;}#sk-container-id-3 input.sk-toggleable__control:checked~label.sk-toggleable__label-arrow:before {content: \"▾\";}#sk-container-id-3 div.sk-estimator input.sk-toggleable__control:checked~label.sk-toggleable__label {background-color: #d4ebff;}#sk-container-id-3 div.sk-label input.sk-toggleable__control:checked~label.sk-toggleable__label {background-color: #d4ebff;}#sk-container-id-3 input.sk-hidden--visually {border: 0;clip: rect(1px 1px 1px 1px);clip: rect(1px, 1px, 1px, 1px);height: 1px;margin: -1px;overflow: hidden;padding: 0;position: absolute;width: 1px;}#sk-container-id-3 div.sk-estimator {font-family: monospace;background-color: #f0f8ff;border: 1px dotted black;border-radius: 0.25em;box-sizing: border-box;margin-bottom: 0.5em;}#sk-container-id-3 div.sk-estimator:hover {background-color: #d4ebff;}#sk-container-id-3 div.sk-parallel-item::after {content: \"\";width: 100%;border-bottom: 1px solid gray;flex-grow: 1;}#sk-container-id-3 div.sk-label:hover label.sk-toggleable__label {background-color: #d4ebff;}#sk-container-id-3 div.sk-serial::before {content: \"\";position: absolute;border-left: 1px solid gray;box-sizing: border-box;top: 0;bottom: 0;left: 50%;z-index: 0;}#sk-container-id-3 div.sk-serial {display: flex;flex-direction: column;align-items: center;background-color: white;padding-right: 0.2em;padding-left: 0.2em;position: relative;}#sk-container-id-3 div.sk-item {position: relative;z-index: 1;}#sk-container-id-3 div.sk-parallel {display: flex;align-items: stretch;justify-content: center;background-color: white;position: relative;}#sk-container-id-3 div.sk-item::before, #sk-container-id-3 div.sk-parallel-item::before {content: \"\";position: absolute;border-left: 1px solid gray;box-sizing: border-box;top: 0;bottom: 0;left: 50%;z-index: -1;}#sk-container-id-3 div.sk-parallel-item {display: flex;flex-direction: column;z-index: 1;position: relative;background-color: white;}#sk-container-id-3 div.sk-parallel-item:first-child::after {align-self: flex-end;width: 50%;}#sk-container-id-3 div.sk-parallel-item:last-child::after {align-self: flex-start;width: 50%;}#sk-container-id-3 div.sk-parallel-item:only-child::after {width: 0;}#sk-container-id-3 div.sk-dashed-wrapped {border: 1px dashed gray;margin: 0 0.4em 0.5em 0.4em;box-sizing: border-box;padding-bottom: 0.4em;background-color: white;}#sk-container-id-3 div.sk-label label {font-family: monospace;font-weight: bold;display: inline-block;line-height: 1.2em;}#sk-container-id-3 div.sk-label-container {text-align: center;}#sk-container-id-3 div.sk-container {/* jupyter's `normalize.less` sets `[hidden] { display: none; }` but bootstrap.min.css set `[hidden] { display: none !important; }` so we also need the `!important` here to be able to override the default hidden behavior on the sphinx rendered scikit-learn.org. See: https://github.com/scikit-learn/scikit-learn/issues/21755 */display: inline-block !important;position: relative;}#sk-container-id-3 div.sk-text-repr-fallback {display: none;}</style><div id=\"sk-container-id-3\" class=\"sk-top-container\"><div class=\"sk-text-repr-fallback\"><pre>GridSearchCV(cv=10,\n",
                            "             estimator=XGBClassifier(base_score=None, booster=None,\n",
                            "                                     callbacks=None, colsample_bylevel=None,\n",
                            "                                     colsample_bynode=None,\n",
                            "                                     colsample_bytree=None, device=None,\n",
                            "                                     early_stopping_rounds=None,\n",
                            "                                     enable_categorical=False, eval_metric=None,\n",
                            "                                     feature_types=None, gamma=None,\n",
                            "                                     grow_policy=None, importance_type=None,\n",
                            "                                     interaction_constraints=None,\n",
                            "                                     learning_rate=None...\n",
                            "                                     missing=nan, monotone_constraints=None,\n",
                            "                                     multi_strategy=None, n_estimators=None,\n",
                            "                                     n_jobs=None, num_parallel_tree=None,\n",
                            "                                     random_state=12, ...),\n",
                            "             param_grid={&#x27;colsample_bytree&#x27;: [0.8, 1.0], &#x27;gamma&#x27;: [0, 0.1, 0.3],\n",
                            "                         &#x27;learning_rate&#x27;: [0.01, 0.05, 0.1],\n",
                            "                         &#x27;max_depth&#x27;: [3, 4], &#x27;min_child_weight&#x27;: [1, 3],\n",
                            "                         &#x27;n_estimators&#x27;: [5, 3, 6],\n",
                            "                         &#x27;scale_pos_weight&#x27;: [1, 2, 3],\n",
                            "                         &#x27;subsample&#x27;: [0.8, 0.9, 1.0]},\n",
                            "             scoring=&#x27;accuracy&#x27;)</pre><b>In a Jupyter environment, please rerun this cell to show the HTML representation or trust the notebook. <br />On GitHub, the HTML representation is unable to render, please try loading this page with nbviewer.org.</b></div><div class=\"sk-container\" hidden><div class=\"sk-item sk-dashed-wrapped\"><div class=\"sk-label-container\"><div class=\"sk-label sk-toggleable\"><input class=\"sk-toggleable__control sk-hidden--visually\" id=\"sk-estimator-id-5\" type=\"checkbox\" ><label for=\"sk-estimator-id-5\" class=\"sk-toggleable__label sk-toggleable__label-arrow\">GridSearchCV</label><div class=\"sk-toggleable__content\"><pre>GridSearchCV(cv=10,\n",
                            "             estimator=XGBClassifier(base_score=None, booster=None,\n",
                            "                                     callbacks=None, colsample_bylevel=None,\n",
                            "                                     colsample_bynode=None,\n",
                            "                                     colsample_bytree=None, device=None,\n",
                            "                                     early_stopping_rounds=None,\n",
                            "                                     enable_categorical=False, eval_metric=None,\n",
                            "                                     feature_types=None, gamma=None,\n",
                            "                                     grow_policy=None, importance_type=None,\n",
                            "                                     interaction_constraints=None,\n",
                            "                                     learning_rate=None...\n",
                            "                                     missing=nan, monotone_constraints=None,\n",
                            "                                     multi_strategy=None, n_estimators=None,\n",
                            "                                     n_jobs=None, num_parallel_tree=None,\n",
                            "                                     random_state=12, ...),\n",
                            "             param_grid={&#x27;colsample_bytree&#x27;: [0.8, 1.0], &#x27;gamma&#x27;: [0, 0.1, 0.3],\n",
                            "                         &#x27;learning_rate&#x27;: [0.01, 0.05, 0.1],\n",
                            "                         &#x27;max_depth&#x27;: [3, 4], &#x27;min_child_weight&#x27;: [1, 3],\n",
                            "                         &#x27;n_estimators&#x27;: [5, 3, 6],\n",
                            "                         &#x27;scale_pos_weight&#x27;: [1, 2, 3],\n",
                            "                         &#x27;subsample&#x27;: [0.8, 0.9, 1.0]},\n",
                            "             scoring=&#x27;accuracy&#x27;)</pre></div></div></div><div class=\"sk-parallel\"><div class=\"sk-parallel-item\"><div class=\"sk-item\"><div class=\"sk-label-container\"><div class=\"sk-label sk-toggleable\"><input class=\"sk-toggleable__control sk-hidden--visually\" id=\"sk-estimator-id-6\" type=\"checkbox\" ><label for=\"sk-estimator-id-6\" class=\"sk-toggleable__label sk-toggleable__label-arrow\">estimator: XGBClassifier</label><div class=\"sk-toggleable__content\"><pre>XGBClassifier(base_score=None, booster=None, callbacks=None,\n",
                            "              colsample_bylevel=None, colsample_bynode=None,\n",
                            "              colsample_bytree=None, device=None, early_stopping_rounds=None,\n",
                            "              enable_categorical=False, eval_metric=None, feature_types=None,\n",
                            "              gamma=None, grow_policy=None, importance_type=None,\n",
                            "              interaction_constraints=None, learning_rate=None, max_bin=None,\n",
                            "              max_cat_threshold=None, max_cat_to_onehot=None,\n",
                            "              max_delta_step=None, max_depth=None, max_leaves=None,\n",
                            "              min_child_weight=None, missing=nan, monotone_constraints=None,\n",
                            "              multi_strategy=None, n_estimators=None, n_jobs=None,\n",
                            "              num_parallel_tree=None, random_state=12, ...)</pre></div></div></div><div class=\"sk-serial\"><div class=\"sk-item\"><div class=\"sk-estimator sk-toggleable\"><input class=\"sk-toggleable__control sk-hidden--visually\" id=\"sk-estimator-id-7\" type=\"checkbox\" ><label for=\"sk-estimator-id-7\" class=\"sk-toggleable__label sk-toggleable__label-arrow\">XGBClassifier</label><div class=\"sk-toggleable__content\"><pre>XGBClassifier(base_score=None, booster=None, callbacks=None,\n",
                            "              colsample_bylevel=None, colsample_bynode=None,\n",
                            "              colsample_bytree=None, device=None, early_stopping_rounds=None,\n",
                            "              enable_categorical=False, eval_metric=None, feature_types=None,\n",
                            "              gamma=None, grow_policy=None, importance_type=None,\n",
                            "              interaction_constraints=None, learning_rate=None, max_bin=None,\n",
                            "              max_cat_threshold=None, max_cat_to_onehot=None,\n",
                            "              max_delta_step=None, max_depth=None, max_leaves=None,\n",
                            "              min_child_weight=None, missing=nan, monotone_constraints=None,\n",
                            "              multi_strategy=None, n_estimators=None, n_jobs=None,\n",
                            "              num_parallel_tree=None, random_state=12, ...)</pre></div></div></div></div></div></div></div></div></div></div>"
                        ],
                        "text/plain": [
                            "GridSearchCV(cv=10,\n",
                            "             estimator=XGBClassifier(base_score=None, booster=None,\n",
                            "                                     callbacks=None, colsample_bylevel=None,\n",
                            "                                     colsample_bynode=None,\n",
                            "                                     colsample_bytree=None, device=None,\n",
                            "                                     early_stopping_rounds=None,\n",
                            "                                     enable_categorical=False, eval_metric=None,\n",
                            "                                     feature_types=None, gamma=None,\n",
                            "                                     grow_policy=None, importance_type=None,\n",
                            "                                     interaction_constraints=None,\n",
                            "                                     learning_rate=None...\n",
                            "                                     missing=nan, monotone_constraints=None,\n",
                            "                                     multi_strategy=None, n_estimators=None,\n",
                            "                                     n_jobs=None, num_parallel_tree=None,\n",
                            "                                     random_state=12, ...),\n",
                            "             param_grid={'colsample_bytree': [0.8, 1.0], 'gamma': [0, 0.1, 0.3],\n",
                            "                         'learning_rate': [0.01, 0.05, 0.1],\n",
                            "                         'max_depth': [3, 4], 'min_child_weight': [1, 3],\n",
                            "                         'n_estimators': [5, 3, 6],\n",
                            "                         'scale_pos_weight': [1, 2, 3],\n",
                            "                         'subsample': [0.8, 0.9, 1.0]},\n",
                            "             scoring='accuracy')"
                        ]
                    },
                    "execution_count": 9,
                    "metadata": {},
                    "output_type": "execute_result"
                }
            ],
            "source": [
                "from sklearn.model_selection import GridSearchCV\n",
                "\n",
                "hyperparams = {\n",
                "    'n_estimators': [5, 3, 6],\n",
                "    'learning_rate': [0.01, 0.05, 0.1],\n",
                "    'max_depth': [3, 4, ],\n",
                "    'subsample': [0.8, 0.9, 1.0],\n",
                "    'min_child_weight': [1, 3],\n",
                "    'gamma': [0, 0.1, 0.3],\n",
                "    'colsample_bytree': [0.8, 1.0],\n",
                "    'scale_pos_weight': [1, 2, 3]\n",
                "\n",
                "}\n",
                "\n",
                "grid = GridSearchCV(model, hyperparams, scoring = \"accuracy\", cv = 10)\n",
                "grid"
            ]
        },
        {
            "cell_type": "code",
            "execution_count": 8,
            "metadata": {},
            "outputs": [
                {
                    "name": "stdout",
                    "output_type": "stream",
                    "text": [
                        "Best hyperparameters: {'colsample_bytree': 1.0, 'gamma': 0, 'learning_rate': 0.1, 'max_depth': 3, 'min_child_weight': 1, 'n_estimators': 6, 'scale_pos_weight': 2, 'subsample': 1.0}\n"
                    ]
                }
            ],
            "source": [
                "def warn(*args, **kwargs):\n",
                "    pass\n",
                "import warnings\n",
                "warnings.warn = warn\n",
                "\n",
                "grid.fit(X_train, y_train)\n",
                "\n",
                "print(f\"Best hyperparameters: {grid.best_params_}\")"
            ]
        },
        {
            "cell_type": "code",
            "execution_count": 10,
            "metadata": {},
            "outputs": [
                {
                    "data": {
                        "text/html": [
                            "<style>#sk-container-id-4 {color: black;}#sk-container-id-4 pre{padding: 0;}#sk-container-id-4 div.sk-toggleable {background-color: white;}#sk-container-id-4 label.sk-toggleable__label {cursor: pointer;display: block;width: 100%;margin-bottom: 0;padding: 0.3em;box-sizing: border-box;text-align: center;}#sk-container-id-4 label.sk-toggleable__label-arrow:before {content: \"▸\";float: left;margin-right: 0.25em;color: #696969;}#sk-container-id-4 label.sk-toggleable__label-arrow:hover:before {color: black;}#sk-container-id-4 div.sk-estimator:hover label.sk-toggleable__label-arrow:before {color: black;}#sk-container-id-4 div.sk-toggleable__content {max-height: 0;max-width: 0;overflow: hidden;text-align: left;background-color: #f0f8ff;}#sk-container-id-4 div.sk-toggleable__content pre {margin: 0.2em;color: black;border-radius: 0.25em;background-color: #f0f8ff;}#sk-container-id-4 input.sk-toggleable__control:checked~div.sk-toggleable__content {max-height: 200px;max-width: 100%;overflow: auto;}#sk-container-id-4 input.sk-toggleable__control:checked~label.sk-toggleable__label-arrow:before {content: \"▾\";}#sk-container-id-4 div.sk-estimator input.sk-toggleable__control:checked~label.sk-toggleable__label {background-color: #d4ebff;}#sk-container-id-4 div.sk-label input.sk-toggleable__control:checked~label.sk-toggleable__label {background-color: #d4ebff;}#sk-container-id-4 input.sk-hidden--visually {border: 0;clip: rect(1px 1px 1px 1px);clip: rect(1px, 1px, 1px, 1px);height: 1px;margin: -1px;overflow: hidden;padding: 0;position: absolute;width: 1px;}#sk-container-id-4 div.sk-estimator {font-family: monospace;background-color: #f0f8ff;border: 1px dotted black;border-radius: 0.25em;box-sizing: border-box;margin-bottom: 0.5em;}#sk-container-id-4 div.sk-estimator:hover {background-color: #d4ebff;}#sk-container-id-4 div.sk-parallel-item::after {content: \"\";width: 100%;border-bottom: 1px solid gray;flex-grow: 1;}#sk-container-id-4 div.sk-label:hover label.sk-toggleable__label {background-color: #d4ebff;}#sk-container-id-4 div.sk-serial::before {content: \"\";position: absolute;border-left: 1px solid gray;box-sizing: border-box;top: 0;bottom: 0;left: 50%;z-index: 0;}#sk-container-id-4 div.sk-serial {display: flex;flex-direction: column;align-items: center;background-color: white;padding-right: 0.2em;padding-left: 0.2em;position: relative;}#sk-container-id-4 div.sk-item {position: relative;z-index: 1;}#sk-container-id-4 div.sk-parallel {display: flex;align-items: stretch;justify-content: center;background-color: white;position: relative;}#sk-container-id-4 div.sk-item::before, #sk-container-id-4 div.sk-parallel-item::before {content: \"\";position: absolute;border-left: 1px solid gray;box-sizing: border-box;top: 0;bottom: 0;left: 50%;z-index: -1;}#sk-container-id-4 div.sk-parallel-item {display: flex;flex-direction: column;z-index: 1;position: relative;background-color: white;}#sk-container-id-4 div.sk-parallel-item:first-child::after {align-self: flex-end;width: 50%;}#sk-container-id-4 div.sk-parallel-item:last-child::after {align-self: flex-start;width: 50%;}#sk-container-id-4 div.sk-parallel-item:only-child::after {width: 0;}#sk-container-id-4 div.sk-dashed-wrapped {border: 1px dashed gray;margin: 0 0.4em 0.5em 0.4em;box-sizing: border-box;padding-bottom: 0.4em;background-color: white;}#sk-container-id-4 div.sk-label label {font-family: monospace;font-weight: bold;display: inline-block;line-height: 1.2em;}#sk-container-id-4 div.sk-label-container {text-align: center;}#sk-container-id-4 div.sk-container {/* jupyter's `normalize.less` sets `[hidden] { display: none; }` but bootstrap.min.css set `[hidden] { display: none !important; }` so we also need the `!important` here to be able to override the default hidden behavior on the sphinx rendered scikit-learn.org. See: https://github.com/scikit-learn/scikit-learn/issues/21755 */display: inline-block !important;position: relative;}#sk-container-id-4 div.sk-text-repr-fallback {display: none;}</style><div id=\"sk-container-id-4\" class=\"sk-top-container\"><div class=\"sk-text-repr-fallback\"><pre>XGBClassifier(base_score=None, booster=None, callbacks=None,\n",
                            "              colsample_bylevel=None, colsample_bynode=None,\n",
                            "              colsample_bytree=None, critcolsample_bytree=1.0, device=None,\n",
                            "              early_stopping_rounds=None, enable_categorical=False,\n",
                            "              eval_metric=None, feature_types=None, gamma=0, grow_policy=None,\n",
                            "              importance_type=None, interaction_constraints=None,\n",
                            "              learning_rate=0.1, max_bin=None, max_cat_threshold=None,\n",
                            "              max_cat_to_onehot=None, max_delta_step=None, max_depth=3,\n",
                            "              max_leaves=None, min_child_weight=1, missing=nan,\n",
                            "              monotone_constraints=None, multi_strategy=None, n_estimators=6,\n",
                            "              n_jobs=None, num_parallel_tree=None, ...)</pre><b>In a Jupyter environment, please rerun this cell to show the HTML representation or trust the notebook. <br />On GitHub, the HTML representation is unable to render, please try loading this page with nbviewer.org.</b></div><div class=\"sk-container\" hidden><div class=\"sk-item\"><div class=\"sk-estimator sk-toggleable\"><input class=\"sk-toggleable__control sk-hidden--visually\" id=\"sk-estimator-id-8\" type=\"checkbox\" checked><label for=\"sk-estimator-id-8\" class=\"sk-toggleable__label sk-toggleable__label-arrow\">XGBClassifier</label><div class=\"sk-toggleable__content\"><pre>XGBClassifier(base_score=None, booster=None, callbacks=None,\n",
                            "              colsample_bylevel=None, colsample_bynode=None,\n",
                            "              colsample_bytree=None, critcolsample_bytree=1.0, device=None,\n",
                            "              early_stopping_rounds=None, enable_categorical=False,\n",
                            "              eval_metric=None, feature_types=None, gamma=0, grow_policy=None,\n",
                            "              importance_type=None, interaction_constraints=None,\n",
                            "              learning_rate=0.1, max_bin=None, max_cat_threshold=None,\n",
                            "              max_cat_to_onehot=None, max_delta_step=None, max_depth=3,\n",
                            "              max_leaves=None, min_child_weight=1, missing=nan,\n",
                            "              monotone_constraints=None, multi_strategy=None, n_estimators=6,\n",
                            "              n_jobs=None, num_parallel_tree=None, ...)</pre></div></div></div></div></div>"
                        ],
                        "text/plain": [
                            "XGBClassifier(base_score=None, booster=None, callbacks=None,\n",
                            "              colsample_bylevel=None, colsample_bynode=None,\n",
                            "              colsample_bytree=None, critcolsample_bytree=1.0, device=None,\n",
                            "              early_stopping_rounds=None, enable_categorical=False,\n",
                            "              eval_metric=None, feature_types=None, gamma=0, grow_policy=None,\n",
                            "              importance_type=None, interaction_constraints=None,\n",
                            "              learning_rate=0.1, max_bin=None, max_cat_threshold=None,\n",
                            "              max_cat_to_onehot=None, max_delta_step=None, max_depth=3,\n",
                            "              max_leaves=None, min_child_weight=1, missing=nan,\n",
                            "              monotone_constraints=None, multi_strategy=None, n_estimators=6,\n",
                            "              n_jobs=None, num_parallel_tree=None, ...)"
                        ]
                    },
                    "execution_count": 10,
                    "metadata": {},
                    "output_type": "execute_result"
                }
            ],
            "source": [
                "model = XGBClassifier(critcolsample_bytree = 1.0, gamma = 0, learning_rate = 0.1, max_depth = 3, random_state = 12, min_child_weight=1,n_estimators=6,scale_pos_weight=2,subsample=1.0)\n",
                "model.fit(X_train, y_train)"
            ]
        },
        {
            "cell_type": "code",
            "execution_count": 11,
            "metadata": {},
            "outputs": [
                {
                    "data": {
                        "text/plain": [
                            "array([1, 0, 0, 0, 0, 1, 0, 1, 1, 1, 1, 1, 1, 1, 0, 0, 0, 0, 1, 1, 1, 0,\n",
                            "       1, 0, 1, 1, 0, 0, 0, 0, 1, 1, 1, 1, 1, 1, 1, 0, 1, 1, 0, 0, 1, 1,\n",
                            "       0, 1, 1, 0, 0, 1, 0, 1, 1, 0, 0, 0, 1, 0, 0, 1, 1, 0, 0, 0, 0, 1,\n",
                            "       0, 1, 0, 1, 1, 0, 0, 0, 0, 1, 0, 0, 0, 0, 1, 0, 0, 1, 0, 1, 1, 1,\n",
                            "       0, 0, 0, 0, 0, 1, 0, 1, 1, 0, 1, 0, 1, 0, 1, 1, 1, 0, 0, 1, 0, 1,\n",
                            "       0, 1, 0, 1, 0, 0, 1, 0, 0, 1, 0, 0, 1, 0, 1, 1, 0, 1, 1, 1, 1, 1,\n",
                            "       0, 0, 1, 0, 0, 1, 1, 0, 0, 0, 0, 1, 0, 0, 0, 0, 1, 1, 0, 1, 1, 0])"
                        ]
                    },
                    "execution_count": 11,
                    "metadata": {},
                    "output_type": "execute_result"
                }
            ],
            "source": [
                "y_pred = model.predict(X_test)\n",
                "y_pred"
            ]
        },
        {
            "cell_type": "code",
            "execution_count": 12,
            "metadata": {},
            "outputs": [
                {
                    "data": {
                        "text/plain": [
                            "0.7207792207792207"
                        ]
                    },
                    "execution_count": 12,
                    "metadata": {},
                    "output_type": "execute_result"
                }
            ],
            "source": [
                "accuracy_score(y_test, y_pred)"
            ]
        },
        {
            "cell_type": "markdown",
            "metadata": {},
            "source": [
                "con la optimizacion de este modelo no he conseguido mejorar mi accuracy\n"
            ]
        },
        {
            "cell_type": "markdown",
            "metadata": {},
            "source": [
                "el mejor modelo para esta base de datos es el random forest"
            ]
        }
    ],
    "metadata": {
        "kernelspec": {
            "display_name": "Python 3.8.13 64-bit ('3.8.13')",
            "language": "python",
            "name": "python3"
        },
        "language_info": {
            "codemirror_mode": {
                "name": "ipython",
                "version": 3
            },
            "file_extension": ".py",
            "mimetype": "text/x-python",
            "name": "python",
            "nbconvert_exporter": "python",
            "pygments_lexer": "ipython3",
            "version": "3.11.4"
        },
        "orig_nbformat": 4,
        "vscode": {
            "interpreter": {
                "hash": "110cc1dee26208153f2972f08a2ad52b6a56238dc66d48e87fb757ef2996db56"
            }
        }
    },
    "nbformat": 4,
    "nbformat_minor": 2
}
